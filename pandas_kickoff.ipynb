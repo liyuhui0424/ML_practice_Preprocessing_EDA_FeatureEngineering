{
 "cells": [
  {
   "cell_type": "markdown",
   "metadata": {},
   "source": [
    "# 1. import pandas"
   ]
  },
  {
   "cell_type": "code",
   "execution_count": 13,
   "metadata": {},
   "outputs": [],
   "source": [
    "import pandas as pd"
   ]
  },
  {
   "cell_type": "markdown",
   "metadata": {},
   "source": [
    "# 2. Load data into pandas as a dataframe"
   ]
  },
  {
   "cell_type": "code",
   "execution_count": 14,
   "metadata": {},
   "outputs": [],
   "source": [
    "df = pd.read_csv('data/sales.csv', nrows=500)"
   ]
  },
  {
   "cell_type": "markdown",
   "metadata": {},
   "source": [
    "**Kownledge**:  \n",
    "1. **read_csv** is for csv file. Many functions can be used for other formats, for example **read_excel** is for xsl and xslx files.   \n",
    "2. **nrows=500** means we only read the first 500 rows from the file. \n",
    "3. If you move your cursor between the parentheses (by clicking any character between the parentheses), then hold down the key **\"shift\"** and type **\"tab\"** for twice, you can get the information for all the arguments of read_csv. Set the arguments you need to change the way you want to load data. "
   ]
  },
  {
   "cell_type": "markdown",
   "metadata": {},
   "source": [
    "# 3. Have a glance of the data"
   ]
  },
  {
   "cell_type": "code",
   "execution_count": 15,
   "metadata": {
    "scrolled": true
   },
   "outputs": [
    {
     "data": {
      "text/html": [
       "<div>\n",
       "<style scoped>\n",
       "    .dataframe tbody tr th:only-of-type {\n",
       "        vertical-align: middle;\n",
       "    }\n",
       "\n",
       "    .dataframe tbody tr th {\n",
       "        vertical-align: top;\n",
       "    }\n",
       "\n",
       "    .dataframe thead th {\n",
       "        text-align: right;\n",
       "    }\n",
       "</style>\n",
       "<table border=\"1\" class=\"dataframe\">\n",
       "  <thead>\n",
       "    <tr style=\"text-align: right;\">\n",
       "      <th></th>\n",
       "      <th>cost</th>\n",
       "      <th>price</th>\n",
       "      <th>weight</th>\n",
       "      <th>purchase_date</th>\n",
       "      <th>product_type</th>\n",
       "      <th>product_level</th>\n",
       "      <th>maker</th>\n",
       "      <th>ingredient</th>\n",
       "      <th>height</th>\n",
       "      <th>width</th>\n",
       "      <th>depth</th>\n",
       "    </tr>\n",
       "  </thead>\n",
       "  <tbody>\n",
       "    <tr>\n",
       "      <th>0</th>\n",
       "      <td>$333k</td>\n",
       "      <td>$300,492</td>\n",
       "      <td>3 Ton 90 Kg</td>\n",
       "      <td>Dec 19 2008</td>\n",
       "      <td>Q,B</td>\n",
       "      <td>advanced</td>\n",
       "      <td>M14122</td>\n",
       "      <td>IN732052,IN732053</td>\n",
       "      <td>2.76 meters</td>\n",
       "      <td>97 cm</td>\n",
       "      <td>26 cm</td>\n",
       "    </tr>\n",
       "    <tr>\n",
       "      <th>1</th>\n",
       "      <td>NaN</td>\n",
       "      <td>$430,570</td>\n",
       "      <td>3 Ton 30 Kg</td>\n",
       "      <td>Sep 10 1997</td>\n",
       "      <td>J,D</td>\n",
       "      <td>basic</td>\n",
       "      <td>NaN</td>\n",
       "      <td>IN732054,IN732055,IN732056,IN732057,IN732058</td>\n",
       "      <td>2.67 meters</td>\n",
       "      <td>98 cm</td>\n",
       "      <td>26 cm</td>\n",
       "    </tr>\n",
       "    <tr>\n",
       "      <th>2</th>\n",
       "      <td>$270k</td>\n",
       "      <td>$213,070</td>\n",
       "      <td>3 Ton 40 Kg</td>\n",
       "      <td>Sep 05 2001</td>\n",
       "      <td>J,D</td>\n",
       "      <td>basic</td>\n",
       "      <td>NaN</td>\n",
       "      <td>IN732054,IN732059,IN732060</td>\n",
       "      <td>3.0 meters</td>\n",
       "      <td>93 cm</td>\n",
       "      <td>24 cm</td>\n",
       "    </tr>\n",
       "    <tr>\n",
       "      <th>3</th>\n",
       "      <td>NaN</td>\n",
       "      <td>$229,174</td>\n",
       "      <td>3 Ton 50 Kg</td>\n",
       "      <td>Dec 23 2016</td>\n",
       "      <td>U</td>\n",
       "      <td>advanced</td>\n",
       "      <td>M14123</td>\n",
       "      <td>IN732061,IN732062,IN732063</td>\n",
       "      <td>2.5 meters</td>\n",
       "      <td>102 cm</td>\n",
       "      <td>27 cm</td>\n",
       "    </tr>\n",
       "    <tr>\n",
       "      <th>4</th>\n",
       "      <td>$97k</td>\n",
       "      <td>$122,659</td>\n",
       "      <td>2 Ton 970 Kg</td>\n",
       "      <td>Jan 12 2000</td>\n",
       "      <td>D,R</td>\n",
       "      <td>advanced</td>\n",
       "      <td>NaN</td>\n",
       "      <td>IN732064,IN732065,IN732066</td>\n",
       "      <td>2.47 meters</td>\n",
       "      <td>101 cm</td>\n",
       "      <td>26 cm</td>\n",
       "    </tr>\n",
       "  </tbody>\n",
       "</table>\n",
       "</div>"
      ],
      "text/plain": [
       "    cost     price        weight purchase_date product_type product_level  \\\n",
       "0  $333k  $300,492   3 Ton 90 Kg   Dec 19 2008          Q,B      advanced   \n",
       "1    NaN  $430,570   3 Ton 30 Kg   Sep 10 1997          J,D         basic   \n",
       "2  $270k  $213,070   3 Ton 40 Kg   Sep 05 2001          J,D         basic   \n",
       "3    NaN  $229,174   3 Ton 50 Kg   Dec 23 2016            U      advanced   \n",
       "4   $97k  $122,659  2 Ton 970 Kg   Jan 12 2000          D,R      advanced   \n",
       "\n",
       "    maker                                    ingredient       height   width  \\\n",
       "0  M14122                             IN732052,IN732053  2.76 meters   97 cm   \n",
       "1     NaN  IN732054,IN732055,IN732056,IN732057,IN732058  2.67 meters   98 cm   \n",
       "2     NaN                    IN732054,IN732059,IN732060   3.0 meters   93 cm   \n",
       "3  M14123                    IN732061,IN732062,IN732063   2.5 meters  102 cm   \n",
       "4     NaN                    IN732064,IN732065,IN732066  2.47 meters  101 cm   \n",
       "\n",
       "   depth  \n",
       "0  26 cm  \n",
       "1  26 cm  \n",
       "2  24 cm  \n",
       "3  27 cm  \n",
       "4  26 cm  "
      ]
     },
     "execution_count": 15,
     "metadata": {},
     "output_type": "execute_result"
    }
   ],
   "source": [
    "df.head()"
   ]
  },
  {
   "cell_type": "markdown",
   "metadata": {},
   "source": [
    "**Knowledge**: Again, you can use **shift + tab** to get more information about function head."
   ]
  },
  {
   "cell_type": "markdown",
   "metadata": {},
   "source": [
    "**Example**: Get names of columns"
   ]
  },
  {
   "cell_type": "code",
   "execution_count": 16,
   "metadata": {},
   "outputs": [
    {
     "data": {
      "text/plain": [
       "Index(['cost', 'price', 'weight', 'purchase_date', 'product_type',\n",
       "       'product_level', 'maker', 'ingredient', 'height', 'width', 'depth'],\n",
       "      dtype='object')"
      ]
     },
     "execution_count": 16,
     "metadata": {},
     "output_type": "execute_result"
    }
   ],
   "source": [
    "df.columns"
   ]
  },
  {
   "cell_type": "markdown",
   "metadata": {},
   "source": [
    "**Example**: Get indices"
   ]
  },
  {
   "cell_type": "code",
   "execution_count": 17,
   "metadata": {},
   "outputs": [
    {
     "data": {
      "text/plain": [
       "RangeIndex(start=0, stop=500, step=1)"
      ]
     },
     "execution_count": 17,
     "metadata": {},
     "output_type": "execute_result"
    }
   ],
   "source": [
    "df.index"
   ]
  },
  {
   "cell_type": "markdown",
   "metadata": {},
   "source": [
    "<font color='red'>Assignment:</font> Get the number of rows and number of columns."
   ]
  },
  {
   "cell_type": "code",
   "execution_count": 20,
   "metadata": {},
   "outputs": [
    {
     "data": {
      "text/plain": [
       "(500, 11)"
      ]
     },
     "execution_count": 20,
     "metadata": {},
     "output_type": "execute_result"
    }
   ],
   "source": [
    "len(df), len(df.columns)"
   ]
  },
  {
   "cell_type": "markdown",
   "metadata": {},
   "source": [
    "# 4. Get a slice of the dataframe"
   ]
  },
  {
   "cell_type": "markdown",
   "metadata": {},
   "source": [
    "## 4.1 Get a column"
   ]
  },
  {
   "cell_type": "markdown",
   "metadata": {},
   "source": [
    "**Example:** use dot"
   ]
  },
  {
   "cell_type": "code",
   "execution_count": 6,
   "metadata": {},
   "outputs": [
    {
     "data": {
      "text/plain": [
       "0    $333k\n",
       "1      NaN\n",
       "2    $270k\n",
       "3      NaN\n",
       "4     $97k\n",
       "Name: cost, dtype: object"
      ]
     },
     "execution_count": 6,
     "metadata": {},
     "output_type": "execute_result"
    }
   ],
   "source": [
    "df.cost.head()"
   ]
  },
  {
   "cell_type": "markdown",
   "metadata": {},
   "source": [
    "**Example:** use []"
   ]
  },
  {
   "cell_type": "code",
   "execution_count": 7,
   "metadata": {},
   "outputs": [
    {
     "data": {
      "text/plain": [
       "0    $333k\n",
       "1      NaN\n",
       "2    $270k\n",
       "3      NaN\n",
       "4     $97k\n",
       "Name: cost, dtype: object"
      ]
     },
     "execution_count": 7,
     "metadata": {},
     "output_type": "execute_result"
    }
   ],
   "source": [
    "df['cost'].head()"
   ]
  },
  {
   "cell_type": "markdown",
   "metadata": {},
   "source": [
    "## 4.2 Get a few columns"
   ]
  },
  {
   "cell_type": "code",
   "execution_count": 8,
   "metadata": {},
   "outputs": [
    {
     "data": {
      "text/html": [
       "<div>\n",
       "<style scoped>\n",
       "    .dataframe tbody tr th:only-of-type {\n",
       "        vertical-align: middle;\n",
       "    }\n",
       "\n",
       "    .dataframe tbody tr th {\n",
       "        vertical-align: top;\n",
       "    }\n",
       "\n",
       "    .dataframe thead th {\n",
       "        text-align: right;\n",
       "    }\n",
       "</style>\n",
       "<table border=\"1\" class=\"dataframe\">\n",
       "  <thead>\n",
       "    <tr style=\"text-align: right;\">\n",
       "      <th></th>\n",
       "      <th>cost</th>\n",
       "      <th>price</th>\n",
       "      <th>weight</th>\n",
       "      <th>purchase_date</th>\n",
       "    </tr>\n",
       "  </thead>\n",
       "  <tbody>\n",
       "    <tr>\n",
       "      <th>0</th>\n",
       "      <td>$333k</td>\n",
       "      <td>$300,492</td>\n",
       "      <td>3 Ton 90 Kg</td>\n",
       "      <td>Dec 19 2008</td>\n",
       "    </tr>\n",
       "    <tr>\n",
       "      <th>1</th>\n",
       "      <td>NaN</td>\n",
       "      <td>$430,570</td>\n",
       "      <td>3 Ton 30 Kg</td>\n",
       "      <td>Sep 10 1997</td>\n",
       "    </tr>\n",
       "    <tr>\n",
       "      <th>2</th>\n",
       "      <td>$270k</td>\n",
       "      <td>$213,070</td>\n",
       "      <td>3 Ton 40 Kg</td>\n",
       "      <td>Sep 05 2001</td>\n",
       "    </tr>\n",
       "    <tr>\n",
       "      <th>3</th>\n",
       "      <td>NaN</td>\n",
       "      <td>$229,174</td>\n",
       "      <td>3 Ton 50 Kg</td>\n",
       "      <td>Dec 23 2016</td>\n",
       "    </tr>\n",
       "    <tr>\n",
       "      <th>4</th>\n",
       "      <td>$97k</td>\n",
       "      <td>$122,659</td>\n",
       "      <td>2 Ton 970 Kg</td>\n",
       "      <td>Jan 12 2000</td>\n",
       "    </tr>\n",
       "  </tbody>\n",
       "</table>\n",
       "</div>"
      ],
      "text/plain": [
       "    cost     price        weight purchase_date\n",
       "0  $333k  $300,492   3 Ton 90 Kg   Dec 19 2008\n",
       "1    NaN  $430,570   3 Ton 30 Kg   Sep 10 1997\n",
       "2  $270k  $213,070   3 Ton 40 Kg   Sep 05 2001\n",
       "3    NaN  $229,174   3 Ton 50 Kg   Dec 23 2016\n",
       "4   $97k  $122,659  2 Ton 970 Kg   Jan 12 2000"
      ]
     },
     "execution_count": 8,
     "metadata": {},
     "output_type": "execute_result"
    }
   ],
   "source": [
    "df[['cost', 'price', 'weight', 'purchase_date']].head()"
   ]
  },
  {
   "cell_type": "markdown",
   "metadata": {},
   "source": [
    "<font color='red'>Question:</font> What is the difference between **df[\"cost\"]** and **df[[\"cost\"]]**? Use **type** to find out."
   ]
  },
  {
   "cell_type": "code",
   "execution_count": 21,
   "metadata": {
    "scrolled": true
   },
   "outputs": [
    {
     "data": {
      "text/plain": [
       "pandas.core.series.Series"
      ]
     },
     "execution_count": 21,
     "metadata": {},
     "output_type": "execute_result"
    }
   ],
   "source": [
    "type(df['cost'])#values"
   ]
  },
  {
   "cell_type": "code",
   "execution_count": 22,
   "metadata": {},
   "outputs": [
    {
     "data": {
      "text/plain": [
       "pandas.core.frame.DataFrame"
      ]
     },
     "execution_count": 22,
     "metadata": {},
     "output_type": "execute_result"
    }
   ],
   "source": [
    "type(df[['cost']]) #sub-DataFrame"
   ]
  },
  {
   "cell_type": "markdown",
   "metadata": {},
   "source": [
    "## 4.3 Get rows"
   ]
  },
  {
   "cell_type": "code",
   "execution_count": 23,
   "metadata": {},
   "outputs": [
    {
     "data": {
      "text/html": [
       "<div>\n",
       "<style scoped>\n",
       "    .dataframe tbody tr th:only-of-type {\n",
       "        vertical-align: middle;\n",
       "    }\n",
       "\n",
       "    .dataframe tbody tr th {\n",
       "        vertical-align: top;\n",
       "    }\n",
       "\n",
       "    .dataframe thead th {\n",
       "        text-align: right;\n",
       "    }\n",
       "</style>\n",
       "<table border=\"1\" class=\"dataframe\">\n",
       "  <thead>\n",
       "    <tr style=\"text-align: right;\">\n",
       "      <th></th>\n",
       "      <th>cost</th>\n",
       "      <th>price</th>\n",
       "      <th>weight</th>\n",
       "      <th>purchase_date</th>\n",
       "      <th>product_type</th>\n",
       "      <th>product_level</th>\n",
       "      <th>maker</th>\n",
       "      <th>ingredient</th>\n",
       "      <th>height</th>\n",
       "      <th>width</th>\n",
       "      <th>depth</th>\n",
       "    </tr>\n",
       "  </thead>\n",
       "  <tbody>\n",
       "    <tr>\n",
       "      <th>5</th>\n",
       "      <td>$59k</td>\n",
       "      <td>$60,320</td>\n",
       "      <td>2 Ton 930 Kg</td>\n",
       "      <td>Aug 19 2011</td>\n",
       "      <td>H</td>\n",
       "      <td>super advanced</td>\n",
       "      <td>M14124</td>\n",
       "      <td>IN732067,IN732068,IN732069,IN732070,IN732071,I...</td>\n",
       "      <td>2.71 meters</td>\n",
       "      <td>96 cm</td>\n",
       "      <td>25 cm</td>\n",
       "    </tr>\n",
       "    <tr>\n",
       "      <th>6</th>\n",
       "      <td>NaN</td>\n",
       "      <td>$182,233</td>\n",
       "      <td>3 Ton 300 Kg</td>\n",
       "      <td>Oct 11 1996</td>\n",
       "      <td>S</td>\n",
       "      <td>super advanced</td>\n",
       "      <td>M14125</td>\n",
       "      <td>IN732073,IN732074</td>\n",
       "      <td>3.01 meters</td>\n",
       "      <td>96 cm</td>\n",
       "      <td>25 cm</td>\n",
       "    </tr>\n",
       "    <tr>\n",
       "      <th>7</th>\n",
       "      <td>NaN</td>\n",
       "      <td>$41,155</td>\n",
       "      <td>3 Ton 80 Kg</td>\n",
       "      <td>Jan 08 2010</td>\n",
       "      <td>B,A</td>\n",
       "      <td>advanced</td>\n",
       "      <td>M14126</td>\n",
       "      <td>IN732075</td>\n",
       "      <td>2.97 meters</td>\n",
       "      <td>94 cm</td>\n",
       "      <td>25 cm</td>\n",
       "    </tr>\n",
       "    <tr>\n",
       "      <th>8</th>\n",
       "      <td>$66k</td>\n",
       "      <td>$180,759</td>\n",
       "      <td>3 Ton 330 Kg</td>\n",
       "      <td>Aug 01 2014</td>\n",
       "      <td>H</td>\n",
       "      <td>super advanced</td>\n",
       "      <td>NaN</td>\n",
       "      <td>IN732076,IN732077,IN732073,IN732078,IN732079,I...</td>\n",
       "      <td>2.71 meters</td>\n",
       "      <td>102 cm</td>\n",
       "      <td>27 cm</td>\n",
       "    </tr>\n",
       "    <tr>\n",
       "      <th>9</th>\n",
       "      <td>$119k</td>\n",
       "      <td>$182,517</td>\n",
       "      <td>2 Ton 970 Kg</td>\n",
       "      <td>Feb 04 2005</td>\n",
       "      <td>K,D</td>\n",
       "      <td>advanced</td>\n",
       "      <td>M14127</td>\n",
       "      <td>IN732085,IN732086,IN732087</td>\n",
       "      <td>2.84 meters</td>\n",
       "      <td>94 cm</td>\n",
       "      <td>25 cm</td>\n",
       "    </tr>\n",
       "    <tr>\n",
       "      <th>10</th>\n",
       "      <td>$160k</td>\n",
       "      <td>$168,762</td>\n",
       "      <td>3 Ton 440 Kg</td>\n",
       "      <td>Oct 28 2016</td>\n",
       "      <td>H</td>\n",
       "      <td>super advanced</td>\n",
       "      <td>M14128</td>\n",
       "      <td>IN732088,IN732089,IN732090,IN732091,IN732092</td>\n",
       "      <td>2.91 meters</td>\n",
       "      <td>100 cm</td>\n",
       "      <td>26 cm</td>\n",
       "    </tr>\n",
       "    <tr>\n",
       "      <th>11</th>\n",
       "      <td>$81k</td>\n",
       "      <td>$228,868</td>\n",
       "      <td>2 Ton 940 Kg</td>\n",
       "      <td>Apr 04 2008</td>\n",
       "      <td>N</td>\n",
       "      <td>advanced</td>\n",
       "      <td>M14129</td>\n",
       "      <td>IN732093,IN732094,IN732095,IN732096</td>\n",
       "      <td>2.52 meters</td>\n",
       "      <td>99 cm</td>\n",
       "      <td>26 cm</td>\n",
       "    </tr>\n",
       "    <tr>\n",
       "      <th>12</th>\n",
       "      <td>$191k</td>\n",
       "      <td>$79,384</td>\n",
       "      <td>3 Ton 200 Kg</td>\n",
       "      <td>Dec 21 2001</td>\n",
       "      <td>U</td>\n",
       "      <td>super advanced</td>\n",
       "      <td>M14130</td>\n",
       "      <td>IN732097,IN732098,IN732099,IN732100,IN732101</td>\n",
       "      <td>2.87 meters</td>\n",
       "      <td>97 cm</td>\n",
       "      <td>25 cm</td>\n",
       "    </tr>\n",
       "    <tr>\n",
       "      <th>13</th>\n",
       "      <td>NaN</td>\n",
       "      <td>$118,628</td>\n",
       "      <td>3 Ton 50 Kg</td>\n",
       "      <td>Dec 15 2006</td>\n",
       "      <td>U,A</td>\n",
       "      <td>advanced</td>\n",
       "      <td>M14131</td>\n",
       "      <td>IN732074,IN732102</td>\n",
       "      <td>2.63 meters</td>\n",
       "      <td>99 cm</td>\n",
       "      <td>26 cm</td>\n",
       "    </tr>\n",
       "    <tr>\n",
       "      <th>14</th>\n",
       "      <td>NaN</td>\n",
       "      <td>$204,305</td>\n",
       "      <td>3 Ton 20 Kg</td>\n",
       "      <td>Jan 29 2010</td>\n",
       "      <td>K,D</td>\n",
       "      <td>advanced</td>\n",
       "      <td>M14132</td>\n",
       "      <td>IN732103,IN732104,IN732105,IN732106</td>\n",
       "      <td>2.54 meters</td>\n",
       "      <td>100 cm</td>\n",
       "      <td>26 cm</td>\n",
       "    </tr>\n",
       "  </tbody>\n",
       "</table>\n",
       "</div>"
      ],
      "text/plain": [
       "     cost     price        weight purchase_date product_type   product_level  \\\n",
       "5    $59k   $60,320  2 Ton 930 Kg   Aug 19 2011            H  super advanced   \n",
       "6     NaN  $182,233  3 Ton 300 Kg   Oct 11 1996            S  super advanced   \n",
       "7     NaN   $41,155   3 Ton 80 Kg   Jan 08 2010          B,A        advanced   \n",
       "8    $66k  $180,759  3 Ton 330 Kg   Aug 01 2014            H  super advanced   \n",
       "9   $119k  $182,517  2 Ton 970 Kg   Feb 04 2005          K,D        advanced   \n",
       "10  $160k  $168,762  3 Ton 440 Kg   Oct 28 2016            H  super advanced   \n",
       "11   $81k  $228,868  2 Ton 940 Kg   Apr 04 2008            N        advanced   \n",
       "12  $191k   $79,384  3 Ton 200 Kg   Dec 21 2001            U  super advanced   \n",
       "13    NaN  $118,628   3 Ton 50 Kg   Dec 15 2006          U,A        advanced   \n",
       "14    NaN  $204,305   3 Ton 20 Kg   Jan 29 2010          K,D        advanced   \n",
       "\n",
       "     maker                                         ingredient       height  \\\n",
       "5   M14124  IN732067,IN732068,IN732069,IN732070,IN732071,I...  2.71 meters   \n",
       "6   M14125                                  IN732073,IN732074  3.01 meters   \n",
       "7   M14126                                           IN732075  2.97 meters   \n",
       "8      NaN  IN732076,IN732077,IN732073,IN732078,IN732079,I...  2.71 meters   \n",
       "9   M14127                         IN732085,IN732086,IN732087  2.84 meters   \n",
       "10  M14128       IN732088,IN732089,IN732090,IN732091,IN732092  2.91 meters   \n",
       "11  M14129                IN732093,IN732094,IN732095,IN732096  2.52 meters   \n",
       "12  M14130       IN732097,IN732098,IN732099,IN732100,IN732101  2.87 meters   \n",
       "13  M14131                                  IN732074,IN732102  2.63 meters   \n",
       "14  M14132                IN732103,IN732104,IN732105,IN732106  2.54 meters   \n",
       "\n",
       "     width  depth  \n",
       "5    96 cm  25 cm  \n",
       "6    96 cm  25 cm  \n",
       "7    94 cm  25 cm  \n",
       "8   102 cm  27 cm  \n",
       "9    94 cm  25 cm  \n",
       "10  100 cm  26 cm  \n",
       "11   99 cm  26 cm  \n",
       "12   97 cm  25 cm  \n",
       "13   99 cm  26 cm  \n",
       "14  100 cm  26 cm  "
      ]
     },
     "execution_count": 23,
     "metadata": {},
     "output_type": "execute_result"
    }
   ],
   "source": [
    "df.iloc[5:15,:]"
   ]
  },
  {
   "cell_type": "markdown",
   "metadata": {},
   "source": [
    "## 4.4 Get a sub matrix"
   ]
  },
  {
   "cell_type": "code",
   "execution_count": 24,
   "metadata": {},
   "outputs": [
    {
     "data": {
      "text/html": [
       "<div>\n",
       "<style scoped>\n",
       "    .dataframe tbody tr th:only-of-type {\n",
       "        vertical-align: middle;\n",
       "    }\n",
       "\n",
       "    .dataframe tbody tr th {\n",
       "        vertical-align: top;\n",
       "    }\n",
       "\n",
       "    .dataframe thead th {\n",
       "        text-align: right;\n",
       "    }\n",
       "</style>\n",
       "<table border=\"1\" class=\"dataframe\">\n",
       "  <thead>\n",
       "    <tr style=\"text-align: right;\">\n",
       "      <th></th>\n",
       "      <th>weight</th>\n",
       "      <th>purchase_date</th>\n",
       "      <th>product_type</th>\n",
       "      <th>product_level</th>\n",
       "      <th>maker</th>\n",
       "    </tr>\n",
       "  </thead>\n",
       "  <tbody>\n",
       "    <tr>\n",
       "      <th>5</th>\n",
       "      <td>2 Ton 930 Kg</td>\n",
       "      <td>Aug 19 2011</td>\n",
       "      <td>H</td>\n",
       "      <td>super advanced</td>\n",
       "      <td>M14124</td>\n",
       "    </tr>\n",
       "    <tr>\n",
       "      <th>6</th>\n",
       "      <td>3 Ton 300 Kg</td>\n",
       "      <td>Oct 11 1996</td>\n",
       "      <td>S</td>\n",
       "      <td>super advanced</td>\n",
       "      <td>M14125</td>\n",
       "    </tr>\n",
       "    <tr>\n",
       "      <th>7</th>\n",
       "      <td>3 Ton 80 Kg</td>\n",
       "      <td>Jan 08 2010</td>\n",
       "      <td>B,A</td>\n",
       "      <td>advanced</td>\n",
       "      <td>M14126</td>\n",
       "    </tr>\n",
       "    <tr>\n",
       "      <th>8</th>\n",
       "      <td>3 Ton 330 Kg</td>\n",
       "      <td>Aug 01 2014</td>\n",
       "      <td>H</td>\n",
       "      <td>super advanced</td>\n",
       "      <td>NaN</td>\n",
       "    </tr>\n",
       "    <tr>\n",
       "      <th>9</th>\n",
       "      <td>2 Ton 970 Kg</td>\n",
       "      <td>Feb 04 2005</td>\n",
       "      <td>K,D</td>\n",
       "      <td>advanced</td>\n",
       "      <td>M14127</td>\n",
       "    </tr>\n",
       "    <tr>\n",
       "      <th>10</th>\n",
       "      <td>3 Ton 440 Kg</td>\n",
       "      <td>Oct 28 2016</td>\n",
       "      <td>H</td>\n",
       "      <td>super advanced</td>\n",
       "      <td>M14128</td>\n",
       "    </tr>\n",
       "    <tr>\n",
       "      <th>11</th>\n",
       "      <td>2 Ton 940 Kg</td>\n",
       "      <td>Apr 04 2008</td>\n",
       "      <td>N</td>\n",
       "      <td>advanced</td>\n",
       "      <td>M14129</td>\n",
       "    </tr>\n",
       "    <tr>\n",
       "      <th>12</th>\n",
       "      <td>3 Ton 200 Kg</td>\n",
       "      <td>Dec 21 2001</td>\n",
       "      <td>U</td>\n",
       "      <td>super advanced</td>\n",
       "      <td>M14130</td>\n",
       "    </tr>\n",
       "    <tr>\n",
       "      <th>13</th>\n",
       "      <td>3 Ton 50 Kg</td>\n",
       "      <td>Dec 15 2006</td>\n",
       "      <td>U,A</td>\n",
       "      <td>advanced</td>\n",
       "      <td>M14131</td>\n",
       "    </tr>\n",
       "    <tr>\n",
       "      <th>14</th>\n",
       "      <td>3 Ton 20 Kg</td>\n",
       "      <td>Jan 29 2010</td>\n",
       "      <td>K,D</td>\n",
       "      <td>advanced</td>\n",
       "      <td>M14132</td>\n",
       "    </tr>\n",
       "  </tbody>\n",
       "</table>\n",
       "</div>"
      ],
      "text/plain": [
       "          weight purchase_date product_type   product_level   maker\n",
       "5   2 Ton 930 Kg   Aug 19 2011            H  super advanced  M14124\n",
       "6   3 Ton 300 Kg   Oct 11 1996            S  super advanced  M14125\n",
       "7    3 Ton 80 Kg   Jan 08 2010          B,A        advanced  M14126\n",
       "8   3 Ton 330 Kg   Aug 01 2014            H  super advanced     NaN\n",
       "9   2 Ton 970 Kg   Feb 04 2005          K,D        advanced  M14127\n",
       "10  3 Ton 440 Kg   Oct 28 2016            H  super advanced  M14128\n",
       "11  2 Ton 940 Kg   Apr 04 2008            N        advanced  M14129\n",
       "12  3 Ton 200 Kg   Dec 21 2001            U  super advanced  M14130\n",
       "13   3 Ton 50 Kg   Dec 15 2006          U,A        advanced  M14131\n",
       "14   3 Ton 20 Kg   Jan 29 2010          K,D        advanced  M14132"
      ]
     },
     "execution_count": 24,
     "metadata": {},
     "output_type": "execute_result"
    }
   ],
   "source": [
    "df.iloc[5:15,2:7]"
   ]
  },
  {
   "cell_type": "code",
   "execution_count": 25,
   "metadata": {},
   "outputs": [
    {
     "data": {
      "text/html": [
       "<div>\n",
       "<style scoped>\n",
       "    .dataframe tbody tr th:only-of-type {\n",
       "        vertical-align: middle;\n",
       "    }\n",
       "\n",
       "    .dataframe tbody tr th {\n",
       "        vertical-align: top;\n",
       "    }\n",
       "\n",
       "    .dataframe thead th {\n",
       "        text-align: right;\n",
       "    }\n",
       "</style>\n",
       "<table border=\"1\" class=\"dataframe\">\n",
       "  <thead>\n",
       "    <tr style=\"text-align: right;\">\n",
       "      <th></th>\n",
       "      <th>weight</th>\n",
       "      <th>purchase_date</th>\n",
       "      <th>product_type</th>\n",
       "    </tr>\n",
       "  </thead>\n",
       "  <tbody>\n",
       "    <tr>\n",
       "      <th>5</th>\n",
       "      <td>2 Ton 930 Kg</td>\n",
       "      <td>Aug 19 2011</td>\n",
       "      <td>H</td>\n",
       "    </tr>\n",
       "    <tr>\n",
       "      <th>6</th>\n",
       "      <td>3 Ton 300 Kg</td>\n",
       "      <td>Oct 11 1996</td>\n",
       "      <td>S</td>\n",
       "    </tr>\n",
       "    <tr>\n",
       "      <th>7</th>\n",
       "      <td>3 Ton 80 Kg</td>\n",
       "      <td>Jan 08 2010</td>\n",
       "      <td>B,A</td>\n",
       "    </tr>\n",
       "    <tr>\n",
       "      <th>8</th>\n",
       "      <td>3 Ton 330 Kg</td>\n",
       "      <td>Aug 01 2014</td>\n",
       "      <td>H</td>\n",
       "    </tr>\n",
       "    <tr>\n",
       "      <th>9</th>\n",
       "      <td>2 Ton 970 Kg</td>\n",
       "      <td>Feb 04 2005</td>\n",
       "      <td>K,D</td>\n",
       "    </tr>\n",
       "    <tr>\n",
       "      <th>10</th>\n",
       "      <td>3 Ton 440 Kg</td>\n",
       "      <td>Oct 28 2016</td>\n",
       "      <td>H</td>\n",
       "    </tr>\n",
       "    <tr>\n",
       "      <th>11</th>\n",
       "      <td>2 Ton 940 Kg</td>\n",
       "      <td>Apr 04 2008</td>\n",
       "      <td>N</td>\n",
       "    </tr>\n",
       "    <tr>\n",
       "      <th>12</th>\n",
       "      <td>3 Ton 200 Kg</td>\n",
       "      <td>Dec 21 2001</td>\n",
       "      <td>U</td>\n",
       "    </tr>\n",
       "    <tr>\n",
       "      <th>13</th>\n",
       "      <td>3 Ton 50 Kg</td>\n",
       "      <td>Dec 15 2006</td>\n",
       "      <td>U,A</td>\n",
       "    </tr>\n",
       "    <tr>\n",
       "      <th>14</th>\n",
       "      <td>3 Ton 20 Kg</td>\n",
       "      <td>Jan 29 2010</td>\n",
       "      <td>K,D</td>\n",
       "    </tr>\n",
       "    <tr>\n",
       "      <th>15</th>\n",
       "      <td>3 Ton 190 Kg</td>\n",
       "      <td>May 13 1998</td>\n",
       "      <td>H</td>\n",
       "    </tr>\n",
       "  </tbody>\n",
       "</table>\n",
       "</div>"
      ],
      "text/plain": [
       "          weight purchase_date product_type\n",
       "5   2 Ton 930 Kg   Aug 19 2011            H\n",
       "6   3 Ton 300 Kg   Oct 11 1996            S\n",
       "7    3 Ton 80 Kg   Jan 08 2010          B,A\n",
       "8   3 Ton 330 Kg   Aug 01 2014            H\n",
       "9   2 Ton 970 Kg   Feb 04 2005          K,D\n",
       "10  3 Ton 440 Kg   Oct 28 2016            H\n",
       "11  2 Ton 940 Kg   Apr 04 2008            N\n",
       "12  3 Ton 200 Kg   Dec 21 2001            U\n",
       "13   3 Ton 50 Kg   Dec 15 2006          U,A\n",
       "14   3 Ton 20 Kg   Jan 29 2010          K,D\n",
       "15  3 Ton 190 Kg   May 13 1998            H"
      ]
     },
     "execution_count": 25,
     "metadata": {},
     "output_type": "execute_result"
    }
   ],
   "source": [
    "df.loc[5:15,\"weight\":\"product_type\"]"
   ]
  },
  {
   "cell_type": "markdown",
   "metadata": {},
   "source": [
    "<font color='red'>Question:</font> What is the difference between **iloc** and **loc**."
   ]
  },
  {
   "cell_type": "code",
   "execution_count": 26,
   "metadata": {},
   "outputs": [],
   "source": [
    "#loc gets DataFrame rows/columns by name/label, iloc gets by index/position"
   ]
  },
  {
   "cell_type": "markdown",
   "metadata": {},
   "source": [
    "## 4.5 Get rows with filters"
   ]
  },
  {
   "cell_type": "code",
   "execution_count": 12,
   "metadata": {},
   "outputs": [
    {
     "data": {
      "text/html": [
       "<div>\n",
       "<style scoped>\n",
       "    .dataframe tbody tr th:only-of-type {\n",
       "        vertical-align: middle;\n",
       "    }\n",
       "\n",
       "    .dataframe tbody tr th {\n",
       "        vertical-align: top;\n",
       "    }\n",
       "\n",
       "    .dataframe thead th {\n",
       "        text-align: right;\n",
       "    }\n",
       "</style>\n",
       "<table border=\"1\" class=\"dataframe\">\n",
       "  <thead>\n",
       "    <tr style=\"text-align: right;\">\n",
       "      <th></th>\n",
       "      <th>cost</th>\n",
       "      <th>price</th>\n",
       "      <th>weight</th>\n",
       "      <th>purchase_date</th>\n",
       "      <th>product_type</th>\n",
       "      <th>product_level</th>\n",
       "      <th>maker</th>\n",
       "      <th>ingredient</th>\n",
       "      <th>height</th>\n",
       "      <th>width</th>\n",
       "      <th>depth</th>\n",
       "    </tr>\n",
       "  </thead>\n",
       "  <tbody>\n",
       "    <tr>\n",
       "      <th>0</th>\n",
       "      <td>$333k</td>\n",
       "      <td>$300,492</td>\n",
       "      <td>3 Ton 90 Kg</td>\n",
       "      <td>Dec 19 2008</td>\n",
       "      <td>Q,B</td>\n",
       "      <td>advanced</td>\n",
       "      <td>M14122</td>\n",
       "      <td>IN732052,IN732053</td>\n",
       "      <td>2.76 meters</td>\n",
       "      <td>97 cm</td>\n",
       "      <td>26 cm</td>\n",
       "    </tr>\n",
       "    <tr>\n",
       "      <th>3</th>\n",
       "      <td>NaN</td>\n",
       "      <td>$229,174</td>\n",
       "      <td>3 Ton 50 Kg</td>\n",
       "      <td>Dec 23 2016</td>\n",
       "      <td>U</td>\n",
       "      <td>advanced</td>\n",
       "      <td>M14123</td>\n",
       "      <td>IN732061,IN732062,IN732063</td>\n",
       "      <td>2.5 meters</td>\n",
       "      <td>102 cm</td>\n",
       "      <td>27 cm</td>\n",
       "    </tr>\n",
       "    <tr>\n",
       "      <th>4</th>\n",
       "      <td>$97k</td>\n",
       "      <td>$122,659</td>\n",
       "      <td>2 Ton 970 Kg</td>\n",
       "      <td>Jan 12 2000</td>\n",
       "      <td>D,R</td>\n",
       "      <td>advanced</td>\n",
       "      <td>NaN</td>\n",
       "      <td>IN732064,IN732065,IN732066</td>\n",
       "      <td>2.47 meters</td>\n",
       "      <td>101 cm</td>\n",
       "      <td>26 cm</td>\n",
       "    </tr>\n",
       "    <tr>\n",
       "      <th>7</th>\n",
       "      <td>NaN</td>\n",
       "      <td>$41,155</td>\n",
       "      <td>3 Ton 80 Kg</td>\n",
       "      <td>Jan 08 2010</td>\n",
       "      <td>B,A</td>\n",
       "      <td>advanced</td>\n",
       "      <td>M14126</td>\n",
       "      <td>IN732075</td>\n",
       "      <td>2.97 meters</td>\n",
       "      <td>94 cm</td>\n",
       "      <td>25 cm</td>\n",
       "    </tr>\n",
       "    <tr>\n",
       "      <th>9</th>\n",
       "      <td>$119k</td>\n",
       "      <td>$182,517</td>\n",
       "      <td>2 Ton 970 Kg</td>\n",
       "      <td>Feb 04 2005</td>\n",
       "      <td>K,D</td>\n",
       "      <td>advanced</td>\n",
       "      <td>M14127</td>\n",
       "      <td>IN732085,IN732086,IN732087</td>\n",
       "      <td>2.84 meters</td>\n",
       "      <td>94 cm</td>\n",
       "      <td>25 cm</td>\n",
       "    </tr>\n",
       "  </tbody>\n",
       "</table>\n",
       "</div>"
      ],
      "text/plain": [
       "    cost     price        weight purchase_date product_type product_level  \\\n",
       "0  $333k  $300,492   3 Ton 90 Kg   Dec 19 2008          Q,B      advanced   \n",
       "3    NaN  $229,174   3 Ton 50 Kg   Dec 23 2016            U      advanced   \n",
       "4   $97k  $122,659  2 Ton 970 Kg   Jan 12 2000          D,R      advanced   \n",
       "7    NaN   $41,155   3 Ton 80 Kg   Jan 08 2010          B,A      advanced   \n",
       "9  $119k  $182,517  2 Ton 970 Kg   Feb 04 2005          K,D      advanced   \n",
       "\n",
       "    maker                  ingredient       height   width  depth  \n",
       "0  M14122           IN732052,IN732053  2.76 meters   97 cm  26 cm  \n",
       "3  M14123  IN732061,IN732062,IN732063   2.5 meters  102 cm  27 cm  \n",
       "4     NaN  IN732064,IN732065,IN732066  2.47 meters  101 cm  26 cm  \n",
       "7  M14126                    IN732075  2.97 meters   94 cm  25 cm  \n",
       "9  M14127  IN732085,IN732086,IN732087  2.84 meters   94 cm  25 cm  "
      ]
     },
     "execution_count": 12,
     "metadata": {},
     "output_type": "execute_result"
    }
   ],
   "source": [
    "df[df.product_level == 'advanced'].head()"
   ]
  },
  {
   "cell_type": "markdown",
   "metadata": {},
   "source": [
    "<font color='red'>Assignment:</font> Get a sub matrix with columns \"cost\", \"price\", and \"pruchase_date\". Filter out the rows in which \"cost\" values are \"NaN\". Hint: use \"pandas.notnull()\". "
   ]
  },
  {
   "cell_type": "code",
   "execution_count": 50,
   "metadata": {},
   "outputs": [
    {
     "data": {
      "text/html": [
       "<div>\n",
       "<style scoped>\n",
       "    .dataframe tbody tr th:only-of-type {\n",
       "        vertical-align: middle;\n",
       "    }\n",
       "\n",
       "    .dataframe tbody tr th {\n",
       "        vertical-align: top;\n",
       "    }\n",
       "\n",
       "    .dataframe thead th {\n",
       "        text-align: right;\n",
       "    }\n",
       "</style>\n",
       "<table border=\"1\" class=\"dataframe\">\n",
       "  <thead>\n",
       "    <tr style=\"text-align: right;\">\n",
       "      <th></th>\n",
       "      <th>cost</th>\n",
       "      <th>price</th>\n",
       "      <th>purchase_date</th>\n",
       "    </tr>\n",
       "  </thead>\n",
       "  <tbody>\n",
       "    <tr>\n",
       "      <th>0</th>\n",
       "      <td>$333k</td>\n",
       "      <td>$300,492</td>\n",
       "      <td>Dec 19 2008</td>\n",
       "    </tr>\n",
       "    <tr>\n",
       "      <th>2</th>\n",
       "      <td>$270k</td>\n",
       "      <td>$213,070</td>\n",
       "      <td>Sep 05 2001</td>\n",
       "    </tr>\n",
       "    <tr>\n",
       "      <th>4</th>\n",
       "      <td>$97k</td>\n",
       "      <td>$122,659</td>\n",
       "      <td>Jan 12 2000</td>\n",
       "    </tr>\n",
       "    <tr>\n",
       "      <th>5</th>\n",
       "      <td>$59k</td>\n",
       "      <td>$60,320</td>\n",
       "      <td>Aug 19 2011</td>\n",
       "    </tr>\n",
       "    <tr>\n",
       "      <th>8</th>\n",
       "      <td>$66k</td>\n",
       "      <td>$180,759</td>\n",
       "      <td>Aug 01 2014</td>\n",
       "    </tr>\n",
       "  </tbody>\n",
       "</table>\n",
       "</div>"
      ],
      "text/plain": [
       "    cost     price purchase_date\n",
       "0  $333k  $300,492   Dec 19 2008\n",
       "2  $270k  $213,070   Sep 05 2001\n",
       "4   $97k  $122,659   Jan 12 2000\n",
       "5   $59k   $60,320   Aug 19 2011\n",
       "8   $66k  $180,759   Aug 01 2014"
      ]
     },
     "execution_count": 50,
     "metadata": {},
     "output_type": "execute_result"
    }
   ],
   "source": [
    "(df[df.cost.notnull() == True].head())[['cost', 'price', 'purchase_date']]"
   ]
  }
 ],
 "metadata": {
  "kernelspec": {
   "display_name": "Python 3 (ipykernel)",
   "language": "python",
   "name": "python3"
  },
  "language_info": {
   "codemirror_mode": {
    "name": "ipython",
    "version": 3
   },
   "file_extension": ".py",
   "mimetype": "text/x-python",
   "name": "python",
   "nbconvert_exporter": "python",
   "pygments_lexer": "ipython3",
   "version": "3.9.13"
  }
 },
 "nbformat": 4,
 "nbformat_minor": 2
}
